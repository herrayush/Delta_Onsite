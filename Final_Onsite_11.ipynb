{
  "nbformat": 4,
  "nbformat_minor": 0,
  "metadata": {
    "colab": {
      "name": "Final_Onsite_1.1",
      "provenance": [],
      "authorship_tag": "ABX9TyM34QSxm/IBqelLytOXpWdO"
    },
    "kernelspec": {
      "name": "python3",
      "display_name": "Python 3"
    }
  },
  "cells": [
    {
      "cell_type": "code",
      "metadata": {
        "id": "htIX6hMaleEU",
        "colab_type": "code",
        "colab": {}
      },
      "source": [
        "import numpy as np\n",
        "import matplotlib.pyplot as plt\n",
        "import math\n",
        "import sklearn\n",
        "import keras"
      ],
      "execution_count": 1,
      "outputs": []
    },
    {
      "cell_type": "code",
      "metadata": {
        "id": "z8kafYh9yE6Y",
        "colab_type": "code",
        "colab": {
          "base_uri": "https://localhost:8080/",
          "height": 265
        },
        "outputId": "fcdd04e1-8045-444a-9fc8-26cde3e487c6"
      },
      "source": [
        "x_data1 = np.linspace(-1, 1, num=100000)\n",
        "y_data1 = - np.tanh(10*x_data1-3) - np.tanh(x_data1+3)+ np.tanh(10*x_data1-4) + np.tanh(10*x_data1+4) + 0.0001*np.random.normal(size=100000)\n",
        "\n",
        "\n",
        "plt.scatter(x_data1[::1], y_data1[::1], s=2)\n",
        "plt.grid()\n",
        "plt.show()\n",
        "\n"
      ],
      "execution_count": 3,
      "outputs": [
        {
          "output_type": "display_data",
          "data": {
            "image/png": "[encoded data removed]",
            "text/plain": [
              "<Figure size 432x288 with 1 Axes>"
            ]
          },
          "metadata": {
            "tags": [],
            "needs_background": "light"
          }
        }
      ]
    },
    {
      "cell_type": "code",
      "metadata": {
        "id": "gzR6HwpFlsNj",
        "colab_type": "code",
        "colab": {
          "base_uri": "https://localhost:8080/",
          "height": 265
        },
        "outputId": "b146be59-27d1-49bb-e580-e9f9fd9dee75"
      },
      "source": [
        "#Data Shuffling\n",
        "data = []\n",
        "for i in range(0,len(x_data1)):\n",
        "  data.append([x_data1[i],y_data1[i]])\n",
        "\n",
        "np.random.shuffle(data)\n",
        "x_data = []\n",
        "y_data = []\n",
        "\n",
        "for i in data:\n",
        "  x_data.append(i[0])\n",
        "  y_data.append(i[1])\n",
        "\n",
        "plt.scatter(x_data[::1], y_data[::1], s=2)\n",
        "plt.grid()\n",
        "plt.show()"
      ],
      "execution_count": 19,
      "outputs": [
        {
          "output_type": "display_data",
          "data": {
            "image/png": "[encoded data removed]",
            "text/plain": [
              "<Figure size 432x288 with 1 Axes>"
            ]
          },
          "metadata": {
            "tags": [],
            "needs_background": "light"
          }
        }
      ]
    },
    {
      "cell_type": "code",
      "metadata": {
        "id": "_xeyNCyG1gBu",
        "colab_type": "code",
        "colab": {
          "base_uri": "https://localhost:8080/",
          "height": 53
        },
        "outputId": "d7d70790-e189-49ca-8272-6a960758a933"
      },
      "source": [
        "\n",
        "x_train = x_data[:len(x_data) - len(x_data)//10]\n",
        "x_test = x_data[len(x_data) - len(x_data)//10:]\n",
        "print(len(x_train),len(x_test))\n",
        "\n",
        "y_train = y_data[:len(y_data) - len(y_data)//10]\n",
        "y_test = y_data[len(y_data) - len(y_data)//10:]\n",
        "print(len(x_train),len(x_test))\n"
      ],
      "execution_count": 14,
      "outputs": [
        {
          "output_type": "stream",
          "text": [
            "90000 10000\n",
            "90000 10000\n"
          ],
          "name": "stdout"
        }
      ]
    },
    {
      "cell_type": "code",
      "metadata": {
        "id": "UjosDwPByJLt",
        "colab_type": "code",
        "colab": {
          "base_uri": "https://localhost:8080/",
          "height": 308
        },
        "outputId": "8da43143-f823-4d91-e322-7801e677a466"
      },
      "source": [
        "model = keras.Sequential()\n",
        "model.add(keras.layers.Dense(units = 1, activation = 'linear', input_shape=[1]))\n",
        "model.add(keras.layers.Dense(units = 64, activation = 'relu'))\n",
        "model.add(keras.layers.Dense(units = 64, activation = 'relu'))\n",
        "model.add(keras.layers.Dense(units = 1, activation = 'linear'))\n",
        "model.compile(loss='mse', optimizer=\"adam\")\n",
        "\n",
        "model.summary()"
      ],
      "execution_count": 15,
      "outputs": [
        {
          "output_type": "stream",
          "text": [
            "Model: \"sequential_1\"\n",
            "_________________________________________________________________\n",
            "Layer (type)                 Output Shape              Param #   \n",
            "=================================================================\n",
            "dense_4 (Dense)              (None, 1)                 2         \n",
            "_________________________________________________________________\n",
            "dense_5 (Dense)              (None, 64)                128       \n",
            "_________________________________________________________________\n",
            "dense_6 (Dense)              (None, 64)                4160      \n",
            "_________________________________________________________________\n",
            "dense_7 (Dense)              (None, 1)                 65        \n",
            "=================================================================\n",
            "Total params: 4,355\n",
            "Trainable params: 4,355\n",
            "Non-trainable params: 0\n",
            "_________________________________________________________________\n"
          ],
          "name": "stdout"
        }
      ]
    },
    {
      "cell_type": "code",
      "metadata": {
        "id": "WmCWBNExyP4l",
        "colab_type": "code",
        "colab": {
          "base_uri": "https://localhost:8080/",
          "height": 1000
        },
        "outputId": "54bc1853-eab8-458b-fe9d-a3c807df79ad"
      },
      "source": [
        "model.fit( x_train, y_train, epochs=100, verbose=1)"
      ],
      "execution_count": 16,
      "outputs": [
        {
          "output_type": "stream",
          "text": [
            "Epoch 1/100\n",
            "2813/2813 [==============================] - 3s 1ms/step - loss: 0.0216\n",
            "Epoch 2/100\n",
            "2813/2813 [==============================] - 4s 1ms/step - loss: 1.5340e-05\n",
            "Epoch 3/100\n",
            "2813/2813 [==============================] - 3s 1ms/step - loss: 2.6987e-05\n",
            "Epoch 4/100\n",
            "2813/2813 [==============================] - 3s 1ms/step - loss: 3.2196e-05\n",
            "Epoch 5/100\n",
            "2813/2813 [==============================] - 4s 1ms/step - loss: 2.7021e-05\n",
            "Epoch 6/100\n",
            "2813/2813 [==============================] - 3s 1ms/step - loss: 2.5308e-05\n",
            "Epoch 7/100\n",
            "2813/2813 [==============================] - 3s 1ms/step - loss: 2.3701e-05\n",
            "Epoch 8/100\n",
            "2813/2813 [==============================] - 3s 1ms/step - loss: 2.4628e-05\n",
            "Epoch 9/100\n",
            "2813/2813 [==============================] - 3s 1ms/step - loss: 3.1125e-05\n",
            "Epoch 10/100\n",
            "2813/2813 [==============================] - 3s 1ms/step - loss: 2.0059e-05\n",
            "Epoch 11/100\n",
            "2813/2813 [==============================] - 3s 1ms/step - loss: 2.7910e-05\n",
            "Epoch 12/100\n",
            "2813/2813 [==============================] - 3s 1ms/step - loss: 1.7259e-05\n",
            "Epoch 13/100\n",
            "2813/2813 [==============================] - 3s 1ms/step - loss: 2.0733e-05\n",
            "Epoch 14/100\n",
            "2813/2813 [==============================] - 3s 1ms/step - loss: 2.6449e-05\n",
            "Epoch 15/100\n",
            "2813/2813 [==============================] - 3s 1ms/step - loss: 1.9299e-05\n",
            "Epoch 16/100\n",
            "2813/2813 [==============================] - 3s 1ms/step - loss: 1.4721e-05\n",
            "Epoch 17/100\n",
            "2813/2813 [==============================] - 3s 1ms/step - loss: 2.0577e-05\n",
            "Epoch 18/100\n",
            "2813/2813 [==============================] - 3s 1ms/step - loss: 2.0987e-05\n",
            "Epoch 19/100\n",
            "2813/2813 [==============================] - 3s 1ms/step - loss: 3.2504e-05\n",
            "Epoch 20/100\n",
            "2813/2813 [==============================] - 3s 1ms/step - loss: 1.3858e-05\n",
            "Epoch 21/100\n",
            "2813/2813 [==============================] - 3s 1ms/step - loss: 1.8931e-05\n",
            "Epoch 22/100\n",
            "2813/2813 [==============================] - 3s 1ms/step - loss: 1.6756e-05\n",
            "Epoch 23/100\n",
            "2813/2813 [==============================] - 3s 1ms/step - loss: 2.2238e-05\n",
            "Epoch 24/100\n",
            "2813/2813 [==============================] - 3s 1ms/step - loss: 1.2575e-05\n",
            "Epoch 25/100\n",
            "2813/2813 [==============================] - 3s 1ms/step - loss: 1.9719e-05\n",
            "Epoch 26/100\n",
            "2813/2813 [==============================] - 3s 1ms/step - loss: 2.2199e-05\n",
            "Epoch 27/100\n",
            "2813/2813 [==============================] - 3s 1ms/step - loss: 2.0339e-05\n",
            "Epoch 28/100\n",
            "2813/2813 [==============================] - 3s 1ms/step - loss: 1.4690e-05\n",
            "Epoch 29/100\n",
            "2813/2813 [==============================] - 3s 1ms/step - loss: 1.3862e-05\n",
            "Epoch 30/100\n",
            "2813/2813 [==============================] - 3s 1ms/step - loss: 1.8997e-05\n",
            "Epoch 31/100\n",
            "2813/2813 [==============================] - 3s 1ms/step - loss: 1.4826e-05\n",
            "Epoch 32/100\n",
            "2813/2813 [==============================] - 3s 1ms/step - loss: 1.8258e-05\n",
            "Epoch 33/100\n",
            "2813/2813 [==============================] - 3s 1ms/step - loss: 1.4846e-05\n",
            "Epoch 34/100\n",
            "2813/2813 [==============================] - 3s 1ms/step - loss: 1.2843e-05\n",
            "Epoch 35/100\n",
            "2813/2813 [==============================] - 3s 1ms/step - loss: 1.5084e-05\n",
            "Epoch 36/100\n",
            "2813/2813 [==============================] - 3s 1ms/step - loss: 1.5165e-05\n",
            "Epoch 37/100\n",
            "2813/2813 [==============================] - 3s 1ms/step - loss: 1.3879e-05\n",
            "Epoch 38/100\n",
            "2813/2813 [==============================] - 3s 1ms/step - loss: 1.3492e-05\n",
            "Epoch 39/100\n",
            "2813/2813 [==============================] - 3s 1ms/step - loss: 1.2511e-05\n",
            "Epoch 40/100\n",
            "2813/2813 [==============================] - 3s 1ms/step - loss: 1.5026e-05\n",
            "Epoch 41/100\n",
            "2813/2813 [==============================] - 3s 1ms/step - loss: 1.3151e-05\n",
            "Epoch 42/100\n",
            "2813/2813 [==============================] - 3s 1ms/step - loss: 1.2837e-05\n",
            "Epoch 43/100\n",
            "2813/2813 [==============================] - 3s 1ms/step - loss: 1.7518e-05\n",
            "Epoch 44/100\n",
            "2813/2813 [==============================] - 3s 1ms/step - loss: 1.1011e-05\n",
            "Epoch 45/100\n",
            "2813/2813 [==============================] - 3s 1ms/step - loss: 1.3508e-05\n",
            "Epoch 46/100\n",
            "2813/2813 [==============================] - 3s 1ms/step - loss: 1.3711e-05\n",
            "Epoch 47/100\n",
            "2813/2813 [==============================] - 3s 1ms/step - loss: 9.1813e-06\n",
            "Epoch 48/100\n",
            "2813/2813 [==============================] - 3s 1ms/step - loss: 1.5998e-05\n",
            "Epoch 49/100\n",
            "2813/2813 [==============================] - 3s 1ms/step - loss: 1.1464e-05\n",
            "Epoch 50/100\n",
            "2813/2813 [==============================] - 3s 1ms/step - loss: 1.4306e-05\n",
            "Epoch 51/100\n",
            "2813/2813 [==============================] - 3s 1ms/step - loss: 1.0494e-05\n",
            "Epoch 52/100\n",
            "2813/2813 [==============================] - 3s 1ms/step - loss: 1.4707e-05\n",
            "Epoch 53/100\n",
            "2813/2813 [==============================] - 3s 1ms/step - loss: 1.2609e-05\n",
            "Epoch 54/100\n",
            "2813/2813 [==============================] - 3s 1ms/step - loss: 1.0461e-05\n",
            "Epoch 55/100\n",
            "2813/2813 [==============================] - 3s 1ms/step - loss: 1.0710e-05\n",
            "Epoch 56/100\n",
            "2813/2813 [==============================] - 3s 1ms/step - loss: 1.0912e-05\n",
            "Epoch 57/100\n",
            "2813/2813 [==============================] - 3s 1ms/step - loss: 1.4261e-05\n",
            "Epoch 58/100\n",
            "2813/2813 [==============================] - 3s 1ms/step - loss: 1.0343e-05\n",
            "Epoch 59/100\n",
            "2813/2813 [==============================] - 3s 1ms/step - loss: 1.1056e-05\n",
            "Epoch 60/100\n",
            "2813/2813 [==============================] - 3s 1ms/step - loss: 1.0689e-05\n",
            "Epoch 61/100\n",
            "2813/2813 [==============================] - 3s 1ms/step - loss: 9.6760e-06\n",
            "Epoch 62/100\n",
            "2813/2813 [==============================] - 3s 1ms/step - loss: 1.5079e-05\n",
            "Epoch 63/100\n",
            "2813/2813 [==============================] - 3s 1ms/step - loss: 1.0523e-05\n",
            "Epoch 64/100\n",
            "2813/2813 [==============================] - 3s 1ms/step - loss: 9.5773e-06\n",
            "Epoch 65/100\n",
            "2813/2813 [==============================] - 3s 1ms/step - loss: 1.1160e-05\n",
            "Epoch 66/100\n",
            "2813/2813 [==============================] - 3s 1ms/step - loss: 8.5372e-06\n",
            "Epoch 67/100\n",
            "2813/2813 [==============================] - 3s 1ms/step - loss: 1.1131e-05\n",
            "Epoch 68/100\n",
            "2813/2813 [==============================] - 3s 1ms/step - loss: 9.5357e-06\n",
            "Epoch 69/100\n",
            "2813/2813 [==============================] - 3s 1ms/step - loss: 9.0351e-06\n",
            "Epoch 70/100\n",
            "2813/2813 [==============================] - 3s 1ms/step - loss: 9.6017e-06\n",
            "Epoch 71/100\n",
            "2813/2813 [==============================] - 3s 1ms/step - loss: 1.0304e-05\n",
            "Epoch 72/100\n",
            "2813/2813 [==============================] - 3s 1ms/step - loss: 1.5287e-05\n",
            "Epoch 73/100\n",
            "2813/2813 [==============================] - 3s 1ms/step - loss: 7.0514e-06\n",
            "Epoch 74/100\n",
            "2813/2813 [==============================] - 3s 1ms/step - loss: 9.2800e-06\n",
            "Epoch 75/100\n",
            "2813/2813 [==============================] - 3s 1ms/step - loss: 1.2594e-05\n",
            "Epoch 76/100\n",
            "2813/2813 [==============================] - 3s 1ms/step - loss: 9.5426e-06\n",
            "Epoch 77/100\n",
            "2813/2813 [==============================] - 3s 1ms/step - loss: 1.0879e-05\n",
            "Epoch 78/100\n",
            "2813/2813 [==============================] - 3s 1ms/step - loss: 9.3554e-06\n",
            "Epoch 79/100\n",
            "2813/2813 [==============================] - 3s 1ms/step - loss: 8.4768e-06\n",
            "Epoch 80/100\n",
            "2813/2813 [==============================] - 3s 1ms/step - loss: 1.2083e-05\n",
            "Epoch 81/100\n",
            "2813/2813 [==============================] - 3s 1ms/step - loss: 9.7998e-06\n",
            "Epoch 82/100\n",
            "2813/2813 [==============================] - 3s 1ms/step - loss: 1.1577e-05\n",
            "Epoch 83/100\n",
            "2813/2813 [==============================] - 3s 1ms/step - loss: 8.5894e-06\n",
            "Epoch 84/100\n",
            "2813/2813 [==============================] - 3s 1ms/step - loss: 1.0471e-05\n",
            "Epoch 85/100\n",
            "2813/2813 [==============================] - 3s 1ms/step - loss: 7.4821e-06\n",
            "Epoch 86/100\n",
            "2813/2813 [==============================] - 3s 1ms/step - loss: 1.1209e-05\n",
            "Epoch 87/100\n",
            "2813/2813 [==============================] - 3s 1ms/step - loss: 7.8886e-06\n",
            "Epoch 88/100\n",
            "2813/2813 [==============================] - 3s 1ms/step - loss: 1.0004e-05\n",
            "Epoch 89/100\n",
            "2813/2813 [==============================] - 3s 1ms/step - loss: 1.2779e-05\n",
            "Epoch 90/100\n",
            "2813/2813 [==============================] - 3s 1ms/step - loss: 8.1781e-06\n",
            "Epoch 91/100\n",
            "2813/2813 [==============================] - 3s 1ms/step - loss: 8.7897e-06\n",
            "Epoch 92/100\n",
            "2813/2813 [==============================] - 3s 1ms/step - loss: 6.8843e-06\n",
            "Epoch 93/100\n",
            "2813/2813 [==============================] - 3s 1ms/step - loss: 9.3953e-06\n",
            "Epoch 94/100\n",
            "2813/2813 [==============================] - 3s 1ms/step - loss: 9.5114e-06\n",
            "Epoch 95/100\n",
            "2813/2813 [==============================] - 3s 1ms/step - loss: 9.4392e-06\n",
            "Epoch 96/100\n",
            "2813/2813 [==============================] - 3s 1ms/step - loss: 7.2902e-06\n",
            "Epoch 97/100\n",
            "2813/2813 [==============================] - 3s 1ms/step - loss: 7.0453e-06\n",
            "Epoch 98/100\n",
            "2813/2813 [==============================] - 3s 1ms/step - loss: 9.4963e-06\n",
            "Epoch 99/100\n",
            "2813/2813 [==============================] - 3s 1ms/step - loss: 7.4914e-06\n",
            "Epoch 100/100\n",
            "2813/2813 [==============================] - 3s 1ms/step - loss: 9.5743e-06\n"
          ],
          "name": "stdout"
        },
        {
          "output_type": "execute_result",
          "data": {
            "text/plain": [
              "<tensorflow.python.keras.callbacks.History at 0x7f988eb7bb00>"
            ]
          },
          "metadata": {
            "tags": []
          },
          "execution_count": 16
        }
      ]
    },
    {
      "cell_type": "code",
      "metadata": {
        "id": "MMMHAbhtTilT",
        "colab_type": "code",
        "colab": {
          "base_uri": "https://localhost:8080/",
          "height": 35
        },
        "outputId": "afe44c0c-6637-43e3-c972-75b1bbf47cdd"
      },
      "source": [
        "y_predicted = model.predict(x_test)\n",
        "from sklearn.metrics import mean_squared_error \n",
        "\n",
        "mean_squared_error(y_test,y_predicted) \n"
      ],
      "execution_count": 22,
      "outputs": [
        {
          "output_type": "execute_result",
          "data": {
            "text/plain": [
              "7.94788576910532e-06"
            ]
          },
          "metadata": {
            "tags": []
          },
          "execution_count": 22
        }
      ]
    }
  ]
}