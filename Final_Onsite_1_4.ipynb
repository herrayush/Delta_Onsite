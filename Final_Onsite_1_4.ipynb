{
  "nbformat": 4,
  "nbformat_minor": 0,
  "metadata": {
    "colab": {
      "name": "Final_Onsite_1.4",
      "provenance": [],
      "authorship_tag": "ABX9TyM6jsMuyy+jx3rLCMdLPoqA"
    },
    "kernelspec": {
      "name": "python3",
      "display_name": "Python 3"
    }
  },
  "cells": [
    {
      "cell_type": "code",
      "metadata": {
        "id": "bkGARE6_vfZz",
        "colab_type": "code",
        "colab": {}
      },
      "source": [
        "import numpy as np\n",
        "import matplotlib.pyplot as plt\n",
        "import math\n",
        "import sklearn\n",
        "import keras\n",
        "\n",
        "x1_data = np.linspace(-1, 1, num=10000)\n",
        "x2_data = np.linspace(-1, 1, num=10000)\n",
        "np.random.shuffle(x2_data)\n",
        "x_data = x1_data + 2*x2_data\n"
      ],
      "execution_count": 122,
      "outputs": []
    },
    {
      "cell_type": "code",
      "metadata": {
        "id": "0w-J9wOI8xYc",
        "colab_type": "code",
        "colab": {
          "base_uri": "https://localhost:8080/",
          "height": 286
        },
        "outputId": "d03ab8e8-2ae7-422f-99e5-317d72b9c120"
      },
      "source": [
        "y_data = - np.tanh(10*x_data-3) - np.tanh(10*x_data+3)+ np.tanh(10*x_data-4) + np.tanh(10*x_data+4) \n",
        "plt.scatter(x_data[::1], y_data[::1], s=2)\n",
        "plt.grid()\n",
        "plt.show()\n",
        "\n",
        "\n",
        "print(len(x_data))\n"
      ],
      "execution_count": 123,
      "outputs": [
        {
          "output_type": "display_data",
          "data": {
            "image/png": "[encoded data removed]",
            "text/plain": [
              "<Figure size 432x288 with 1 Axes>"
            ]
          },
          "metadata": {
            "tags": [],
            "needs_background": "light"
          }
        },
        {
          "output_type": "stream",
          "text": [
            "10000\n"
          ],
          "name": "stdout"
        }
      ]
    },
    {
      "cell_type": "code",
      "metadata": {
        "id": "j7HkguaXCQBb",
        "colab_type": "code",
        "colab": {
          "base_uri": "https://localhost:8080/",
          "height": 53
        },
        "outputId": "71a7e178-6c80-467a-906c-df99e234fb3c"
      },
      "source": [
        "x_train = x_data[:len(x_data) - len(x_data)//2]\n",
        "x_test = x_data[len(x_data) - len(x_data)//2:]\n",
        "print(len(x_train),len(x_test))\n",
        "\n",
        "y_train = y_data[:len(y_data) - len(y_data)//2]\n",
        "y_test = y_data[len(y_data) - len(y_data)//2:]\n",
        "print(len(x_train),len(x_test))"
      ],
      "execution_count": 124,
      "outputs": [
        {
          "output_type": "stream",
          "text": [
            "5000 5000\n",
            "5000 5000\n"
          ],
          "name": "stdout"
        }
      ]
    },
    {
      "cell_type": "code",
      "metadata": {
        "id": "ureUZFJlMShV",
        "colab_type": "code",
        "colab": {
          "base_uri": "https://localhost:8080/",
          "height": 53
        },
        "outputId": "8dceb575-8693-468a-90c1-f5b7ed4f045d"
      },
      "source": [
        "import warnings\n",
        "\n",
        "z = np.polyfit(x_train, y_train, 100)\n",
        "\n",
        "x = x_train\n",
        "y = y_train\n",
        "p = np.poly1d(z)\n",
        "import matplotlib.pyplot as plt\n",
        "with warnings.catch_warnings():\n",
        "    warnings.simplefilter('ignore', np.RankWarning)\n",
        "    p30 = np.poly1d(np.polyfit(x, y, 30))\n",
        "xp = x_train\n",
        "\n"
      ],
      "execution_count": 125,
      "outputs": [
        {
          "output_type": "stream",
          "text": [
            "/usr/local/lib/python3.6/dist-packages/IPython/core/interactiveshell.py:2882: RankWarning: Polyfit may be poorly conditioned\n",
            "  exec(code_obj, self.user_global_ns, self.user_ns)\n"
          ],
          "name": "stderr"
        }
      ]
    },
    {
      "cell_type": "code",
      "metadata": {
        "id": "Y6fbNCP3Ryq3",
        "colab_type": "code",
        "colab": {
          "base_uri": "https://localhost:8080/",
          "height": 35
        },
        "outputId": "69c3a216-53aa-434a-a8ca-158f1bf704a0"
      },
      "source": [
        "from sklearn.metrics import mean_squared_error \n",
        "\n",
        "mean_squared_error(y_test,p30(xp)) \n"
      ],
      "execution_count": 126,
      "outputs": [
        {
          "output_type": "execute_result",
          "data": {
            "text/plain": [
              "0.11573915554645568"
            ]
          },
          "metadata": {
            "tags": []
          },
          "execution_count": 126
        }
      ]
    }
  ]
}