{
  "nbformat": 4,
  "nbformat_minor": 0,
  "metadata": {
    "colab": {
      "name": "Final_Onsite_1.3",
      "provenance": [],
      "authorship_tag": "ABX9TyPSnxYpT0Ml5mOua4WkMoxg"
    },
    "kernelspec": {
      "name": "python3",
      "display_name": "Python 3"
    }
  },
  "cells": [
    {
      "cell_type": "code",
      "metadata": {
        "id": "g3Jf3Fa3qEtu",
        "colab_type": "code",
        "colab": {}
      },
      "source": [
        "import numpy as np\n",
        "import matplotlib.pyplot as plt\n",
        "import math\n",
        "import sklearn\n",
        "import keras\n",
        "\n",
        "x1_data = np.linspace(-1, 1, num=100000)\n",
        "x2_data = np.linspace(-1, 1, num=100000)\n",
        "np.random.shuffle(x2_data)\n",
        "x_data1 = x1_data + 2*x2_data\n",
        "\n"
      ],
      "execution_count": 68,
      "outputs": []
    },
    {
      "cell_type": "code",
      "metadata": {
        "id": "nseSe5uyqEpE",
        "colab_type": "code",
        "colab": {
          "base_uri": "https://localhost:8080/",
          "height": 265
        },
        "outputId": "dd4bc60a-6f21-485e-829c-62f87b3a321a"
      },
      "source": [
        "\n",
        "y_data1 = - np.tanh(10*x_data1-3) - np.tanh(x_data1+3)+ np.tanh(10*x_data1-4) + np.tanh(10*x_data1+4) + 0.0001*np.random.normal(size=100000)\n",
        "\n",
        "\n",
        "plt.scatter(x_data1[::1], y_data1[::1], s=2)\n",
        "plt.grid()\n",
        "plt.show()\n"
      ],
      "execution_count": 69,
      "outputs": [
        {
          "output_type": "display_data",
          "data": {
            "image/png": "[encoded data removed]",
            "text/plain": [
              "<Figure size 432x288 with 1 Axes>"
            ]
          },
          "metadata": {
            "tags": [],
            "needs_background": "light"
          }
        }
      ]
    },
    {
      "cell_type": "code",
      "metadata": {
        "id": "z74WR6kspItf",
        "colab_type": "code",
        "colab": {
          "base_uri": "https://localhost:8080/",
          "height": 265
        },
        "outputId": "2da0cb42-3dad-47c0-c5d2-ae494ea3fd74"
      },
      "source": [
        "#Data Shuffling\n",
        "data = []\n",
        "for i in range(0,len(x_data1)):\n",
        "  data.append([x_data1[i],y_data1[i]])\n",
        "\n",
        "np.random.shuffle(data)\n",
        "x_data = []\n",
        "y_data = []\n",
        "\n",
        "for i in data:\n",
        "  x_data.append(i[0])\n",
        "  y_data.append(i[1])\n",
        "\n",
        "plt.scatter(x_data[::1], y_data[::1], s=2)\n",
        "plt.grid()\n",
        "plt.show()"
      ],
      "execution_count": 70,
      "outputs": [
        {
          "output_type": "display_data",
          "data": {
            "image/png": "[encoded data removed]",
            "text/plain": [
              "<Figure size 432x288 with 1 Axes>"
            ]
          },
          "metadata": {
            "tags": [],
            "needs_background": "light"
          }
        }
      ]
    },
    {
      "cell_type": "code",
      "metadata": {
        "id": "9tVySjrZqEnZ",
        "colab_type": "code",
        "colab": {
          "base_uri": "https://localhost:8080/",
          "height": 53
        },
        "outputId": "54075aef-06ae-4dd9-88c6-60b0c20d2847"
      },
      "source": [
        "\n",
        "x_data = temp1\n",
        "y_data = temp2\n",
        "x_train = x_data[:len(x_data) - len(x_data)//10]\n",
        "x_test = x_data[len(x_data) - len(x_data)//10:]\n",
        "print(len(x_train),len(x_test))\n",
        "\n",
        "y_train = y_data[:len(y_data) - len(y_data)//10]\n",
        "y_test = y_data[len(y_data) - len(y_data)//10:]\n",
        "print(len(x_train),len(x_test))"
      ],
      "execution_count": 71,
      "outputs": [
        {
          "output_type": "stream",
          "text": [
            "180000 20000\n",
            "180000 20000\n"
          ],
          "name": "stdout"
        }
      ]
    },
    {
      "cell_type": "code",
      "metadata": {
        "id": "8Dz0RNWG2ZKt",
        "colab_type": "code",
        "colab": {
          "base_uri": "https://localhost:8080/",
          "height": 308
        },
        "outputId": "98dd10c5-c4d6-4ac8-f1ad-edd9c22da5d7"
      },
      "source": [
        "model = keras.Sequential()\n",
        "model.add(keras.layers.Dense(units = 1, activation = 'linear', input_shape=[1]))\n",
        "model.add(keras.layers.Dense(units = 64, activation = 'relu'))\n",
        "model.add(keras.layers.Dense(units = 64, activation = 'relu'))\n",
        "model.add(keras.layers.Dense(units = 1, activation = 'linear'))\n",
        "model.compile(loss='mse', optimizer=\"adam\")\n",
        "model.summary()"
      ],
      "execution_count": 72,
      "outputs": [
        {
          "output_type": "stream",
          "text": [
            "Model: \"sequential_10\"\n",
            "_________________________________________________________________\n",
            "Layer (type)                 Output Shape              Param #   \n",
            "=================================================================\n",
            "dense_40 (Dense)             (None, 1)                 2         \n",
            "_________________________________________________________________\n",
            "dense_41 (Dense)             (None, 64)                128       \n",
            "_________________________________________________________________\n",
            "dense_42 (Dense)             (None, 64)                4160      \n",
            "_________________________________________________________________\n",
            "dense_43 (Dense)             (None, 1)                 65        \n",
            "=================================================================\n",
            "Total params: 4,355\n",
            "Trainable params: 4,355\n",
            "Non-trainable params: 0\n",
            "_________________________________________________________________\n"
          ],
          "name": "stdout"
        }
      ]
    },
    {
      "cell_type": "code",
      "metadata": {
        "id": "auOen78Q2ZQN",
        "colab_type": "code",
        "colab": {
          "base_uri": "https://localhost:8080/",
          "height": 1000
        },
        "outputId": "8da1bb10-ac2d-4832-fe8a-91afc8b9b71e"
      },
      "source": [
        "\n",
        "model.fit( x_train, y_train, epochs=100, verbose=1)"
      ],
      "execution_count": 73,
      "outputs": [
        {
          "output_type": "stream",
          "text": [
            "Epoch 1/100\n",
            "5625/5625 [==============================] - 6s 1ms/step - loss: 5.1043e-04\n",
            "Epoch 2/100\n",
            "5625/5625 [==============================] - 6s 1ms/step - loss: 1.1849e-04\n",
            "Epoch 3/100\n",
            "5625/5625 [==============================] - 6s 1ms/step - loss: 1.1611e-04\n",
            "Epoch 4/100\n",
            "5625/5625 [==============================] - 6s 1ms/step - loss: 1.1428e-04\n",
            "Epoch 5/100\n",
            "5625/5625 [==============================] - 6s 1ms/step - loss: 1.1239e-04\n",
            "Epoch 6/100\n",
            "5625/5625 [==============================] - 6s 1ms/step - loss: 1.1175e-04\n",
            "Epoch 7/100\n",
            "5625/5625 [==============================] - 6s 1ms/step - loss: 1.1051e-04\n",
            "Epoch 8/100\n",
            "5625/5625 [==============================] - 6s 1ms/step - loss: 1.1030e-04\n",
            "Epoch 9/100\n",
            "5625/5625 [==============================] - 6s 1ms/step - loss: 1.0971e-04\n",
            "Epoch 10/100\n",
            "5625/5625 [==============================] - 6s 1ms/step - loss: 1.1002e-04\n",
            "Epoch 11/100\n",
            "5625/5625 [==============================] - 6s 1ms/step - loss: 1.0896e-04\n",
            "Epoch 12/100\n",
            "5625/5625 [==============================] - 6s 1ms/step - loss: 1.0915e-04\n",
            "Epoch 13/100\n",
            "5625/5625 [==============================] - 6s 1ms/step - loss: 1.0875e-04\n",
            "Epoch 14/100\n",
            "5625/5625 [==============================] - 8s 1ms/step - loss: 1.0829e-04\n",
            "Epoch 15/100\n",
            "5625/5625 [==============================] - 6s 1ms/step - loss: 1.0868e-04\n",
            "Epoch 16/100\n",
            "5625/5625 [==============================] - 6s 1ms/step - loss: 1.0776e-04\n",
            "Epoch 17/100\n",
            "5625/5625 [==============================] - 6s 1ms/step - loss: 1.0857e-04\n",
            "Epoch 18/100\n",
            "5625/5625 [==============================] - 6s 1ms/step - loss: 1.0742e-04\n",
            "Epoch 19/100\n",
            "5625/5625 [==============================] - 6s 1ms/step - loss: 1.0844e-04\n",
            "Epoch 20/100\n",
            "5625/5625 [==============================] - 6s 1ms/step - loss: 1.0777e-04\n",
            "Epoch 21/100\n",
            "5625/5625 [==============================] - 6s 1ms/step - loss: 1.0768e-04\n",
            "Epoch 22/100\n",
            "5625/5625 [==============================] - 6s 1ms/step - loss: 1.0757e-04\n",
            "Epoch 23/100\n",
            "5625/5625 [==============================] - 6s 1ms/step - loss: 1.0727e-04\n",
            "Epoch 24/100\n",
            "5625/5625 [==============================] - 6s 1ms/step - loss: 1.0753e-04\n",
            "Epoch 25/100\n",
            "5625/5625 [==============================] - 6s 1ms/step - loss: 1.0757e-04\n",
            "Epoch 26/100\n",
            "5625/5625 [==============================] - 6s 1ms/step - loss: 1.0782e-04\n",
            "Epoch 27/100\n",
            "5625/5625 [==============================] - 6s 1ms/step - loss: 1.0768e-04\n",
            "Epoch 28/100\n",
            "5625/5625 [==============================] - 6s 1ms/step - loss: 1.0731e-04\n",
            "Epoch 29/100\n",
            "5625/5625 [==============================] - 6s 1ms/step - loss: 1.0689e-04\n",
            "Epoch 30/100\n",
            "5625/5625 [==============================] - 6s 1ms/step - loss: 1.0703e-04\n",
            "Epoch 31/100\n",
            "5625/5625 [==============================] - 6s 1ms/step - loss: 1.0784e-04\n",
            "Epoch 32/100\n",
            "5625/5625 [==============================] - 6s 1ms/step - loss: 1.0755e-04\n",
            "Epoch 33/100\n",
            "5625/5625 [==============================] - 6s 1ms/step - loss: 1.0702e-04\n",
            "Epoch 34/100\n",
            "5625/5625 [==============================] - 6s 1ms/step - loss: 1.0710e-04\n",
            "Epoch 35/100\n",
            "5625/5625 [==============================] - 6s 1ms/step - loss: 1.0668e-04\n",
            "Epoch 36/100\n",
            "5625/5625 [==============================] - 6s 1ms/step - loss: 1.0751e-04\n",
            "Epoch 37/100\n",
            "5625/5625 [==============================] - 6s 1ms/step - loss: 1.0674e-04\n",
            "Epoch 38/100\n",
            "5625/5625 [==============================] - 6s 1ms/step - loss: 1.0722e-04\n",
            "Epoch 39/100\n",
            "5625/5625 [==============================] - 6s 1ms/step - loss: 1.0662e-04\n",
            "Epoch 40/100\n",
            "5625/5625 [==============================] - 6s 1ms/step - loss: 1.0666e-04\n",
            "Epoch 41/100\n",
            "5625/5625 [==============================] - 6s 1ms/step - loss: 1.0685e-04\n",
            "Epoch 42/100\n",
            "5625/5625 [==============================] - 6s 1ms/step - loss: 1.0701e-04\n",
            "Epoch 43/100\n",
            "5625/5625 [==============================] - 6s 1ms/step - loss: 1.0692e-04\n",
            "Epoch 44/100\n",
            "5625/5625 [==============================] - 6s 1ms/step - loss: 1.0711e-04\n",
            "Epoch 45/100\n",
            "5625/5625 [==============================] - 6s 1ms/step - loss: 1.0712e-04\n",
            "Epoch 46/100\n",
            "5625/5625 [==============================] - 7s 1ms/step - loss: 1.0660e-04\n",
            "Epoch 47/100\n",
            "5625/5625 [==============================] - 8s 1ms/step - loss: 1.0707e-04\n",
            "Epoch 48/100\n",
            "5625/5625 [==============================] - 8s 1ms/step - loss: 1.0702e-04\n",
            "Epoch 49/100\n",
            "5625/5625 [==============================] - 6s 1ms/step - loss: 1.0687e-04\n",
            "Epoch 50/100\n",
            "5625/5625 [==============================] - 6s 1ms/step - loss: 1.0630e-04\n",
            "Epoch 51/100\n",
            "5625/5625 [==============================] - 6s 1ms/step - loss: 1.0669e-04\n",
            "Epoch 52/100\n",
            "5625/5625 [==============================] - 6s 1ms/step - loss: 1.0648e-04\n",
            "Epoch 53/100\n",
            "5625/5625 [==============================] - 6s 1ms/step - loss: 1.0660e-04\n",
            "Epoch 54/100\n",
            "5625/5625 [==============================] - 6s 1ms/step - loss: 1.0644e-04\n",
            "Epoch 55/100\n",
            "5625/5625 [==============================] - 6s 1ms/step - loss: 1.0662e-04\n",
            "Epoch 56/100\n",
            "5625/5625 [==============================] - 6s 1ms/step - loss: 1.0616e-04\n",
            "Epoch 57/100\n",
            "5625/5625 [==============================] - 6s 1ms/step - loss: 1.0611e-04\n",
            "Epoch 58/100\n",
            "5625/5625 [==============================] - 6s 1ms/step - loss: 1.0616e-04\n",
            "Epoch 59/100\n",
            "5625/5625 [==============================] - 6s 1ms/step - loss: 1.0647e-04\n",
            "Epoch 60/100\n",
            "5625/5625 [==============================] - 6s 1ms/step - loss: 1.0627e-04\n",
            "Epoch 61/100\n",
            "5625/5625 [==============================] - 6s 1ms/step - loss: 1.0631e-04\n",
            "Epoch 62/100\n",
            "5625/5625 [==============================] - 6s 1ms/step - loss: 1.0665e-04\n",
            "Epoch 63/100\n",
            "5625/5625 [==============================] - 6s 1ms/step - loss: 1.0624e-04\n",
            "Epoch 64/100\n",
            "5625/5625 [==============================] - 7s 1ms/step - loss: 1.0611e-04\n",
            "Epoch 65/100\n",
            "5625/5625 [==============================] - 6s 1ms/step - loss: 1.0575e-04\n",
            "Epoch 66/100\n",
            "5625/5625 [==============================] - 6s 1ms/step - loss: 1.0565e-04\n",
            "Epoch 67/100\n",
            "5625/5625 [==============================] - 6s 1ms/step - loss: 1.0656e-04\n",
            "Epoch 68/100\n",
            "5625/5625 [==============================] - 6s 1ms/step - loss: 1.0643e-04\n",
            "Epoch 69/100\n",
            "5625/5625 [==============================] - 6s 1ms/step - loss: 1.0593e-04\n",
            "Epoch 70/100\n",
            "5625/5625 [==============================] - 6s 1ms/step - loss: 1.0647e-04\n",
            "Epoch 71/100\n",
            "5625/5625 [==============================] - 6s 1ms/step - loss: 1.0611e-04\n",
            "Epoch 72/100\n",
            "5625/5625 [==============================] - 6s 1ms/step - loss: 1.0614e-04\n",
            "Epoch 73/100\n",
            "5625/5625 [==============================] - 6s 1ms/step - loss: 1.0590e-04\n",
            "Epoch 74/100\n",
            "5625/5625 [==============================] - 6s 1ms/step - loss: 1.0578e-04\n",
            "Epoch 75/100\n",
            "5625/5625 [==============================] - 6s 1ms/step - loss: 1.0619e-04\n",
            "Epoch 76/100\n",
            "5625/5625 [==============================] - 6s 1ms/step - loss: 1.0612e-04\n",
            "Epoch 77/100\n",
            "5625/5625 [==============================] - 6s 1ms/step - loss: 1.0604e-04\n",
            "Epoch 78/100\n",
            "5625/5625 [==============================] - 6s 1ms/step - loss: 1.0578e-04\n",
            "Epoch 79/100\n",
            "5625/5625 [==============================] - 6s 1ms/step - loss: 1.0585e-04\n",
            "Epoch 80/100\n",
            "5625/5625 [==============================] - 6s 1ms/step - loss: 1.0614e-04\n",
            "Epoch 81/100\n",
            "5625/5625 [==============================] - 6s 1ms/step - loss: 1.0584e-04\n",
            "Epoch 82/100\n",
            "5625/5625 [==============================] - 6s 1ms/step - loss: 1.0570e-04\n",
            "Epoch 83/100\n",
            "5625/5625 [==============================] - 6s 1ms/step - loss: 1.0541e-04\n",
            "Epoch 84/100\n",
            "5625/5625 [==============================] - 6s 1ms/step - loss: 1.0516e-04\n",
            "Epoch 85/100\n",
            "5625/5625 [==============================] - 6s 1ms/step - loss: 1.0572e-04\n",
            "Epoch 86/100\n",
            "5625/5625 [==============================] - 6s 1ms/step - loss: 1.0558e-04\n",
            "Epoch 87/100\n",
            "5625/5625 [==============================] - 6s 1ms/step - loss: 1.0540e-04\n",
            "Epoch 88/100\n",
            "5625/5625 [==============================] - 6s 1ms/step - loss: 1.0520e-04\n",
            "Epoch 89/100\n",
            "5625/5625 [==============================] - 6s 1ms/step - loss: 1.0518e-04\n",
            "Epoch 90/100\n",
            "5625/5625 [==============================] - 6s 1ms/step - loss: 1.0508e-04\n",
            "Epoch 91/100\n",
            "5625/5625 [==============================] - 6s 1ms/step - loss: 1.0555e-04\n",
            "Epoch 92/100\n",
            "5625/5625 [==============================] - 6s 1ms/step - loss: 1.0547e-04\n",
            "Epoch 93/100\n",
            "5625/5625 [==============================] - 6s 1ms/step - loss: 1.0523e-04\n",
            "Epoch 94/100\n",
            "5625/5625 [==============================] - 6s 1ms/step - loss: 1.0531e-04\n",
            "Epoch 95/100\n",
            "5625/5625 [==============================] - 6s 1ms/step - loss: 1.0541e-04\n",
            "Epoch 96/100\n",
            "5625/5625 [==============================] - 6s 1ms/step - loss: 1.0537e-04\n",
            "Epoch 97/100\n",
            "5625/5625 [==============================] - 6s 1ms/step - loss: 1.0548e-04\n",
            "Epoch 98/100\n",
            "5625/5625 [==============================] - 6s 1ms/step - loss: 1.0540e-04\n",
            "Epoch 99/100\n",
            "5625/5625 [==============================] - 7s 1ms/step - loss: 1.0540e-04\n",
            "Epoch 100/100\n",
            "5625/5625 [==============================] - 7s 1ms/step - loss: 1.0529e-04\n"
          ],
          "name": "stdout"
        },
        {
          "output_type": "execute_result",
          "data": {
            "text/plain": [
              "<tensorflow.python.keras.callbacks.History at 0x7fc7a0684c18>"
            ]
          },
          "metadata": {
            "tags": []
          },
          "execution_count": 73
        }
      ]
    },
    {
      "cell_type": "code",
      "metadata": {
        "id": "y3zWEa0t2ZT3",
        "colab_type": "code",
        "colab": {
          "base_uri": "https://localhost:8080/",
          "height": 35
        },
        "outputId": "5eda058e-dde1-4275-8e6c-f550ea2502c9"
      },
      "source": [
        "y_predicted = model.predict(x_test)\n",
        "\n",
        "\n",
        "from sklearn.metrics import mean_squared_error \n",
        "\n",
        "mean_squared_error(y_test,y_predicted) "
      ],
      "execution_count": 74,
      "outputs": [
        {
          "output_type": "execute_result",
          "data": {
            "text/plain": [
              "0.00010836595241403694"
            ]
          },
          "metadata": {
            "tags": []
          },
          "execution_count": 74
        }
      ]
    }
  ]
}