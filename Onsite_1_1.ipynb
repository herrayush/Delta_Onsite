{
  "nbformat": 4,
  "nbformat_minor": 0,
  "metadata": {
    "colab": {
      "name": "Onsite_1.1",
      "provenance": [],
      "authorship_tag": "ABX9TyONKQUEt/9H/3IgvOMlA/xj"
    },
    "kernelspec": {
      "name": "python3",
      "display_name": "Python 3"
    }
  },
  "cells": [
    {
      "cell_type": "code",
      "metadata": {
        "id": "htIX6hMaleEU",
        "colab_type": "code",
        "colab": {}
      },
      "source": [
        "import numpy as np\n",
        "import matplotlib.pyplot as plt\n",
        "import math\n",
        "import sklearn\n",
        "import keras"
      ],
      "execution_count": 125,
      "outputs": []
    },
    {
      "cell_type": "code",
      "metadata": {
        "id": "z8kafYh9yE6Y",
        "colab_type": "code",
        "colab": {
          "base_uri": "https://localhost:8080/",
          "height": 265
        },
        "outputId": "40a11292-7f27-43ac-d070-9a27b0e4d0e9"
      },
      "source": [
        "x_data = np.linspace(-1, 1, num=100000)\n",
        "y_data = - np.tanh(10*x_data-3) - np.tanh(x_data+3)+ np.tanh(10*x_data-4) + np.tanh(10*x_data+4) + 0.0001*np.random.normal(size=100000)\n",
        "\n",
        "\n",
        "plt.scatter(x_data[::1], y_data[::1], s=2)\n",
        "plt.grid()\n",
        "plt.show()\n",
        "\n"
      ],
      "execution_count": 126,
      "outputs": [
        {
          "output_type": "display_data",
          "data": {
            "image/png": "[encoded data removed]",
            "text/plain": [
              "<Figure size 432x288 with 1 Axes>"
            ]
          },
          "metadata": {
            "tags": [],
            "needs_background": "light"
          }
        }
      ]
    },
    {
      "cell_type": "code",
      "metadata": {
        "id": "_xeyNCyG1gBu",
        "colab_type": "code",
        "colab": {
          "base_uri": "https://localhost:8080/",
          "height": 53
        },
        "outputId": "7e29a399-6593-477d-daae-ee67281ab715"
      },
      "source": [
        "\n",
        "x_train = x_data[:len(x_data) - len(x_data)//10]\n",
        "x_test = x_data[len(x_data) - len(x_data)//10:]\n",
        "print(len(x_train),len(x_test))\n",
        "\n",
        "y_train = y_data[:len(y_data) - len(y_data)//10]\n",
        "y_test = y_data[len(y_data) - len(y_data)//10:]\n",
        "print(len(x_train),len(x_test))\n"
      ],
      "execution_count": 127,
      "outputs": [
        {
          "output_type": "stream",
          "text": [
            "90000 10000\n",
            "90000 10000\n"
          ],
          "name": "stdout"
        }
      ]
    },
    {
      "cell_type": "code",
      "metadata": {
        "id": "UjosDwPByJLt",
        "colab_type": "code",
        "colab": {
          "base_uri": "https://localhost:8080/",
          "height": 308
        },
        "outputId": "051cb4ee-f377-4d9e-e0b1-01406101d238"
      },
      "source": [
        "model = keras.Sequential()\n",
        "model.add(keras.layers.Dense(units = 1, activation = 'linear', input_shape=[1]))\n",
        "model.add(keras.layers.Dense(units = 64, activation = 'relu'))\n",
        "model.add(keras.layers.Dense(units = 64, activation = 'relu'))\n",
        "model.add(keras.layers.Dense(units = 1, activation = 'linear'))\n",
        "model.compile(loss='mse', optimizer=\"adam\")\n",
        "\n",
        "model.summary()"
      ],
      "execution_count": 128,
      "outputs": [
        {
          "output_type": "stream",
          "text": [
            "Model: \"sequential_12\"\n",
            "_________________________________________________________________\n",
            "Layer (type)                 Output Shape              Param #   \n",
            "=================================================================\n",
            "dense_48 (Dense)             (None, 1)                 2         \n",
            "_________________________________________________________________\n",
            "dense_49 (Dense)             (None, 64)                128       \n",
            "_________________________________________________________________\n",
            "dense_50 (Dense)             (None, 64)                4160      \n",
            "_________________________________________________________________\n",
            "dense_51 (Dense)             (None, 1)                 65        \n",
            "=================================================================\n",
            "Total params: 4,355\n",
            "Trainable params: 4,355\n",
            "Non-trainable params: 0\n",
            "_________________________________________________________________\n"
          ],
          "name": "stdout"
        }
      ]
    },
    {
      "cell_type": "code",
      "metadata": {
        "id": "WmCWBNExyP4l",
        "colab_type": "code",
        "colab": {
          "base_uri": "https://localhost:8080/",
          "height": 1000
        },
        "outputId": "9214d8c6-3226-4e0b-909a-b60e2ebde191"
      },
      "source": [
        "model.fit( x_train, y_train, epochs=100, verbose=1)"
      ],
      "execution_count": 129,
      "outputs": [
        {
          "output_type": "stream",
          "text": [
            "Epoch 1/100\n",
            "2813/2813 [==============================] - 3s 1ms/step - loss: 0.0254\n",
            "Epoch 2/100\n",
            "2813/2813 [==============================] - 3s 1ms/step - loss: 1.4297e-05\n",
            "Epoch 3/100\n",
            "2813/2813 [==============================] - 3s 1ms/step - loss: 2.8917e-05\n",
            "Epoch 4/100\n",
            "2813/2813 [==============================] - 3s 1ms/step - loss: 2.8240e-05\n",
            "Epoch 5/100\n",
            "2813/2813 [==============================] - 3s 1ms/step - loss: 2.6955e-05\n",
            "Epoch 6/100\n",
            "2813/2813 [==============================] - 3s 987us/step - loss: 2.7413e-05\n",
            "Epoch 7/100\n",
            "2813/2813 [==============================] - 3s 1ms/step - loss: 3.0992e-05\n",
            "Epoch 8/100\n",
            "2813/2813 [==============================] - 3s 1ms/step - loss: 2.5223e-05\n",
            "Epoch 9/100\n",
            "2813/2813 [==============================] - 3s 1ms/step - loss: 2.2494e-05\n",
            "Epoch 10/100\n",
            "2813/2813 [==============================] - 3s 1ms/step - loss: 2.2387e-05\n",
            "Epoch 11/100\n",
            "2813/2813 [==============================] - 3s 1ms/step - loss: 2.7011e-05\n",
            "Epoch 12/100\n",
            "2813/2813 [==============================] - 3s 1ms/step - loss: 2.6668e-05\n",
            "Epoch 13/100\n",
            "2813/2813 [==============================] - 3s 998us/step - loss: 2.9000e-05\n",
            "Epoch 14/100\n",
            "2813/2813 [==============================] - 3s 1ms/step - loss: 1.9361e-05\n",
            "Epoch 15/100\n",
            "2813/2813 [==============================] - 3s 1ms/step - loss: 2.1931e-05\n",
            "Epoch 16/100\n",
            "2813/2813 [==============================] - 3s 1ms/step - loss: 2.5983e-05\n",
            "Epoch 17/100\n",
            "2813/2813 [==============================] - 3s 1ms/step - loss: 2.0838e-05\n",
            "Epoch 18/100\n",
            "2813/2813 [==============================] - 3s 1ms/step - loss: 1.7093e-05\n",
            "Epoch 19/100\n",
            "2813/2813 [==============================] - 3s 1ms/step - loss: 2.8686e-05\n",
            "Epoch 20/100\n",
            "2813/2813 [==============================] - 3s 1ms/step - loss: 2.2568e-05\n",
            "Epoch 21/100\n",
            "2813/2813 [==============================] - 3s 1ms/step - loss: 1.8142e-05\n",
            "Epoch 22/100\n",
            "2813/2813 [==============================] - 3s 1ms/step - loss: 2.3941e-05\n",
            "Epoch 23/100\n",
            "2813/2813 [==============================] - 3s 990us/step - loss: 1.7203e-05\n",
            "Epoch 24/100\n",
            "2813/2813 [==============================] - 3s 1ms/step - loss: 2.1232e-05\n",
            "Epoch 25/100\n",
            "2813/2813 [==============================] - 3s 1ms/step - loss: 1.9287e-05\n",
            "Epoch 26/100\n",
            "2813/2813 [==============================] - 3s 1ms/step - loss: 1.8364e-05\n",
            "Epoch 27/100\n",
            "2813/2813 [==============================] - 3s 993us/step - loss: 2.8458e-05\n",
            "Epoch 28/100\n",
            "2813/2813 [==============================] - 3s 1ms/step - loss: 1.6530e-05\n",
            "Epoch 29/100\n",
            "2813/2813 [==============================] - 3s 997us/step - loss: 1.7523e-05\n",
            "Epoch 30/100\n",
            "2813/2813 [==============================] - 3s 980us/step - loss: 1.5440e-05\n",
            "Epoch 31/100\n",
            "2813/2813 [==============================] - 3s 990us/step - loss: 1.4249e-05\n",
            "Epoch 32/100\n",
            "2813/2813 [==============================] - 3s 1ms/step - loss: 1.6514e-05\n",
            "Epoch 33/100\n",
            "2813/2813 [==============================] - 3s 1ms/step - loss: 3.0349e-05\n",
            "Epoch 34/100\n",
            "2813/2813 [==============================] - 3s 1ms/step - loss: 1.2509e-05\n",
            "Epoch 35/100\n",
            "2813/2813 [==============================] - 3s 993us/step - loss: 1.6565e-05\n",
            "Epoch 36/100\n",
            "2813/2813 [==============================] - 3s 1ms/step - loss: 1.6076e-05\n",
            "Epoch 37/100\n",
            "2813/2813 [==============================] - 3s 1ms/step - loss: 2.0253e-05\n",
            "Epoch 38/100\n",
            "2813/2813 [==============================] - 3s 1ms/step - loss: 1.4799e-05\n",
            "Epoch 39/100\n",
            "2813/2813 [==============================] - 3s 1ms/step - loss: 1.6086e-05\n",
            "Epoch 40/100\n",
            "2813/2813 [==============================] - 3s 1ms/step - loss: 2.1693e-05\n",
            "Epoch 41/100\n",
            "2813/2813 [==============================] - 3s 1ms/step - loss: 1.1637e-05\n",
            "Epoch 42/100\n",
            "2813/2813 [==============================] - 3s 1ms/step - loss: 1.4551e-05\n",
            "Epoch 43/100\n",
            "2813/2813 [==============================] - 3s 995us/step - loss: 1.4227e-05\n",
            "Epoch 44/100\n",
            "2813/2813 [==============================] - 3s 1ms/step - loss: 1.3509e-05\n",
            "Epoch 45/100\n",
            "2813/2813 [==============================] - 3s 986us/step - loss: 1.7539e-05\n",
            "Epoch 46/100\n",
            "2813/2813 [==============================] - 3s 1ms/step - loss: 1.7260e-05\n",
            "Epoch 47/100\n",
            "2813/2813 [==============================] - 3s 968us/step - loss: 1.0661e-05\n",
            "Epoch 48/100\n",
            "2813/2813 [==============================] - 3s 986us/step - loss: 1.4186e-05\n",
            "Epoch 49/100\n",
            "2813/2813 [==============================] - 3s 995us/step - loss: 1.3952e-05\n",
            "Epoch 50/100\n",
            "2813/2813 [==============================] - 3s 1ms/step - loss: 1.2357e-05\n",
            "Epoch 51/100\n",
            "2813/2813 [==============================] - 3s 1ms/step - loss: 1.3638e-05\n",
            "Epoch 52/100\n",
            "2813/2813 [==============================] - 3s 1ms/step - loss: 1.6235e-05\n",
            "Epoch 53/100\n",
            "2813/2813 [==============================] - 3s 991us/step - loss: 1.5788e-05\n",
            "Epoch 54/100\n",
            "2813/2813 [==============================] - 3s 1ms/step - loss: 1.1538e-05\n",
            "Epoch 55/100\n",
            "2813/2813 [==============================] - 3s 979us/step - loss: 1.4625e-05\n",
            "Epoch 56/100\n",
            "2813/2813 [==============================] - 3s 976us/step - loss: 1.1882e-05\n",
            "Epoch 57/100\n",
            "2813/2813 [==============================] - 3s 1ms/step - loss: 1.4971e-05\n",
            "Epoch 58/100\n",
            "2813/2813 [==============================] - 3s 983us/step - loss: 1.3425e-05\n",
            "Epoch 59/100\n",
            "2813/2813 [==============================] - 3s 1ms/step - loss: 1.1793e-05\n",
            "Epoch 60/100\n",
            "2813/2813 [==============================] - 3s 979us/step - loss: 1.1631e-05\n",
            "Epoch 61/100\n",
            "2813/2813 [==============================] - 3s 991us/step - loss: 1.2174e-05\n",
            "Epoch 62/100\n",
            "2813/2813 [==============================] - 3s 1ms/step - loss: 1.3507e-05\n",
            "Epoch 63/100\n",
            "2813/2813 [==============================] - 3s 1ms/step - loss: 1.4353e-05\n",
            "Epoch 64/100\n",
            "2813/2813 [==============================] - 3s 1ms/step - loss: 1.1227e-05\n",
            "Epoch 65/100\n",
            "2813/2813 [==============================] - 3s 1ms/step - loss: 1.5165e-05\n",
            "Epoch 66/100\n",
            "2813/2813 [==============================] - 3s 1ms/step - loss: 1.2325e-05\n",
            "Epoch 67/100\n",
            "2813/2813 [==============================] - 3s 1ms/step - loss: 1.1279e-05\n",
            "Epoch 68/100\n",
            "2813/2813 [==============================] - 3s 997us/step - loss: 1.6551e-05\n",
            "Epoch 69/100\n",
            "2813/2813 [==============================] - 3s 983us/step - loss: 7.9814e-06\n",
            "Epoch 70/100\n",
            "2813/2813 [==============================] - 3s 1ms/step - loss: 1.1966e-05\n",
            "Epoch 71/100\n",
            "2813/2813 [==============================] - 3s 986us/step - loss: 1.0924e-05\n",
            "Epoch 72/100\n",
            "2813/2813 [==============================] - 3s 1ms/step - loss: 1.1689e-05\n",
            "Epoch 73/100\n",
            "2813/2813 [==============================] - 3s 1ms/step - loss: 1.3421e-05\n",
            "Epoch 74/100\n",
            "2813/2813 [==============================] - 3s 1ms/step - loss: 1.0528e-05\n",
            "Epoch 75/100\n",
            "2813/2813 [==============================] - 3s 1ms/step - loss: 1.3487e-05\n",
            "Epoch 76/100\n",
            "2813/2813 [==============================] - 3s 992us/step - loss: 1.2485e-05\n",
            "Epoch 77/100\n",
            "2813/2813 [==============================] - 3s 1ms/step - loss: 1.2548e-05\n",
            "Epoch 78/100\n",
            "2813/2813 [==============================] - 3s 1ms/step - loss: 1.0944e-05\n",
            "Epoch 79/100\n",
            "2813/2813 [==============================] - 3s 1ms/step - loss: 1.0921e-05\n",
            "Epoch 80/100\n",
            "2813/2813 [==============================] - 3s 983us/step - loss: 1.0638e-05\n",
            "Epoch 81/100\n",
            "2813/2813 [==============================] - 3s 984us/step - loss: 1.1355e-05\n",
            "Epoch 82/100\n",
            "2813/2813 [==============================] - 3s 1ms/step - loss: 1.0158e-05\n",
            "Epoch 83/100\n",
            "2813/2813 [==============================] - 3s 985us/step - loss: 1.0570e-05\n",
            "Epoch 84/100\n",
            "2813/2813 [==============================] - 3s 1ms/step - loss: 9.4333e-06\n",
            "Epoch 85/100\n",
            "2813/2813 [==============================] - 3s 984us/step - loss: 1.1961e-05\n",
            "Epoch 86/100\n",
            "2813/2813 [==============================] - 3s 980us/step - loss: 1.3506e-05\n",
            "Epoch 87/100\n",
            "2813/2813 [==============================] - 3s 1ms/step - loss: 1.5523e-05\n",
            "Epoch 88/100\n",
            "2813/2813 [==============================] - 3s 1ms/step - loss: 1.0011e-05\n",
            "Epoch 89/100\n",
            "2813/2813 [==============================] - 3s 982us/step - loss: 1.0827e-05\n",
            "Epoch 90/100\n",
            "2813/2813 [==============================] - 3s 1ms/step - loss: 9.2181e-06\n",
            "Epoch 91/100\n",
            "2813/2813 [==============================] - 3s 997us/step - loss: 1.2059e-05\n",
            "Epoch 92/100\n",
            "2813/2813 [==============================] - 3s 1ms/step - loss: 1.1277e-05\n",
            "Epoch 93/100\n",
            "2813/2813 [==============================] - 3s 987us/step - loss: 9.7571e-06\n",
            "Epoch 94/100\n",
            "2813/2813 [==============================] - 3s 1ms/step - loss: 1.3543e-05\n",
            "Epoch 95/100\n",
            "2813/2813 [==============================] - 3s 983us/step - loss: 8.5393e-06\n",
            "Epoch 96/100\n",
            "2813/2813 [==============================] - 3s 1ms/step - loss: 9.6007e-06\n",
            "Epoch 97/100\n",
            "2813/2813 [==============================] - 3s 990us/step - loss: 1.1302e-05\n",
            "Epoch 98/100\n",
            "2813/2813 [==============================] - 3s 985us/step - loss: 8.5407e-06\n",
            "Epoch 99/100\n",
            "2813/2813 [==============================] - 3s 982us/step - loss: 8.3258e-06\n",
            "Epoch 100/100\n",
            "2813/2813 [==============================] - 3s 1ms/step - loss: 1.0053e-05\n"
          ],
          "name": "stdout"
        },
        {
          "output_type": "execute_result",
          "data": {
            "text/plain": [
              "<tensorflow.python.keras.callbacks.History at 0x7f3057c6bf98>"
            ]
          },
          "metadata": {
            "tags": []
          },
          "execution_count": 129
        }
      ]
    },
    {
      "cell_type": "code",
      "metadata": {
        "id": "MMMHAbhtTilT",
        "colab_type": "code",
        "colab": {
          "base_uri": "https://localhost:8080/",
          "height": 265
        },
        "outputId": "3d2f3154-e804-44f1-a0e6-0c1a3dbf01a0"
      },
      "source": [
        "y_predicted = model.predict(x_test)\n",
        "\n",
        "plt.scatter(x_data, y_data, s=1)\n",
        "plt.plot(x_test, y_predicted, 'r', linewidth=6)\n",
        "plt.grid()\n",
        "plt.show()\n"
      ],
      "execution_count": 130,
      "outputs": [
        {
          "output_type": "display_data",
          "data": {
            "image/png": "[encoded data removed]",
            "text/plain": [
              "<Figure size 432x288 with 1 Axes>"
            ]
          },
          "metadata": {
            "tags": [],
            "needs_background": "light"
          }
        }
      ]
    }
  ]
}