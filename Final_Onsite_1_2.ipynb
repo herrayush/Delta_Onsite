{
  "nbformat": 4,
  "nbformat_minor": 0,
  "metadata": {
    "colab": {
      "name": "Final_Onsite_1.2",
      "provenance": [],
      "collapsed_sections": [],
      "authorship_tag": "ABX9TyPNRIpT7DhdVxXlSZsKSp49",
      "include_colab_link": true
    },
    "kernelspec": {
      "name": "python3",
      "display_name": "Python 3"
    }
  },
  "cells": [
    {
      "cell_type": "markdown",
      "metadata": {
        "id": "view-in-github",
        "colab_type": "text"
      },
      "source": [
        "<a href=\"https://colab.research.google.com/github/herrayush/Delta_Onsite/blob/master/Final_Onsite_1_2.ipynb\" target=\"_parent\"><img src=\"https://colab.research.google.com/assets/colab-badge.svg\" alt=\"Open In Colab\"/></a>"
      ]
    },
    {
      "cell_type": "code",
      "metadata": {
        "id": "OQck_7rc5tal",
        "colab_type": "code",
        "colab": {}
      },
      "source": [
        "import numpy as np\n",
        "import matplotlib.pyplot as plt\n",
        "import math\n",
        "import sklearn\n",
        "import keras\n",
        "\n",
        "x_data = np.linspace(-1, 1, num=100)\n",
        "y_data = - np.tanh(10*x_data-3) - np.tanh(10*x_data+3)+ np.tanh(10*x_data-4) + np.tanh(10*x_data+4) + 0.0001*np.random.normal(size=100)"
      ],
      "execution_count": 23,
      "outputs": []
    },
    {
      "cell_type": "code",
      "metadata": {
        "id": "pqkpR75e5vUy",
        "colab_type": "code",
        "colab": {
          "base_uri": "https://localhost:8080/",
          "height": 283
        },
        "outputId": "b10cbbba-d6e6-4c82-9f0b-443544239f67"
      },
      "source": [
        "plt.scatter(x_data[::1], y_data[::1], s=2)\n",
        "plt.grid()\n",
        "plt.show()\n",
        "\n",
        "\n",
        "print(len(x_data))"
      ],
      "execution_count": 24,
      "outputs": [
        {
          "output_type": "display_data",
          "data": {
            "image/png": "[encoded data removed]",
            "text/plain": [
              "<Figure size 432x288 with 1 Axes>"
            ]
          },
          "metadata": {
            "tags": [],
            "needs_background": "light"
          }
        },
        {
          "output_type": "stream",
          "text": [
            "100\n"
          ],
          "name": "stdout"
        }
      ]
    },
    {
      "cell_type": "code",
      "metadata": {
        "id": "Y3sEs_Z_5xUr",
        "colab_type": "code",
        "colab": {
          "base_uri": "https://localhost:8080/",
          "height": 53
        },
        "outputId": "1a7e4088-69b5-4ed1-f4f3-1f1599940252"
      },
      "source": [
        "x_train = x_data[:len(x_data) - len(x_data)//2]\n",
        "x_test = x_data[len(x_data) - len(x_data)//2:]\n",
        "print(len(x_train),len(x_test))\n",
        "\n",
        "y_train = y_data[:len(y_data) - len(y_data)//2]\n",
        "y_test = y_data[len(y_data) - len(y_data)//2:]\n",
        "print(len(x_train),len(x_test))"
      ],
      "execution_count": 25,
      "outputs": [
        {
          "output_type": "stream",
          "text": [
            "50 50\n",
            "50 50\n"
          ],
          "name": "stdout"
        }
      ]
    },
    {
      "cell_type": "code",
      "metadata": {
        "id": "x4_YyrwiahLk",
        "colab_type": "code",
        "colab": {
          "base_uri": "https://localhost:8080/",
          "height": 305
        },
        "outputId": "c856f042-bd2f-4da8-9ead-8b7b5b679ed6"
      },
      "source": [
        "import warnings\n",
        "\n",
        "z = np.polyfit(x_train, y_train, 100)\n",
        "\n",
        "x = x_train\n",
        "y = y_train\n",
        "p = np.poly1d(z)\n",
        "import matplotlib.pyplot as plt\n",
        "with warnings.catch_warnings():\n",
        "    warnings.simplefilter('ignore', np.RankWarning)\n",
        "    p30 = np.poly1d(np.polyfit(x, y, 30))\n",
        "xp = x_train\n",
        "_ = plt.plot(x, y, '.', xp, p(xp), 'o', xp, p30(xp), '--')\n",
        "plt.ylim(-2,2)\n",
        "\n",
        "plt.show()"
      ],
      "execution_count": 26,
      "outputs": [
        {
          "output_type": "stream",
          "text": [
            "/usr/local/lib/python3.6/dist-packages/IPython/core/interactiveshell.py:2882: RankWarning: Polyfit may be poorly conditioned\n",
            "  exec(code_obj, self.user_global_ns, self.user_ns)\n"
          ],
          "name": "stderr"
        },
        {
          "output_type": "display_data",
          "data": {
            "image/png": "[encoded data removed]",
            "text/plain": [
              "<Figure size 432x288 with 1 Axes>"
            ]
          },
          "metadata": {
            "tags": [],
            "needs_background": "light"
          }
        }
      ]
    },
    {
      "cell_type": "code",
      "metadata": {
        "id": "ACjUIATKpkmF",
        "colab_type": "code",
        "colab": {
          "base_uri": "https://localhost:8080/",
          "height": 35
        },
        "outputId": "bbcecfed-4328-4d19-d9c3-3a868b384e41"
      },
      "source": [
        "from sklearn.metrics import mean_squared_error \n",
        "\n",
        "mean_squared_error(y_test,p30(xp)) \n"
      ],
      "execution_count": 28,
      "outputs": [
        {
          "output_type": "execute_result",
          "data": {
            "text/plain": [
              "1.5333149429356616"
            ]
          },
          "metadata": {
            "tags": []
          },
          "execution_count": 28
        }
      ]
    }
  ]
}