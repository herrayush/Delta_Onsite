{
  "nbformat": 4,
  "nbformat_minor": 0,
  "metadata": {
    "colab": {
      "name": "Final_Onsite_1.2",
      "provenance": [],
      "authorship_tag": "ABX9TyPeGGrmR8OT4T2YZdMP37w3"
    },
    "kernelspec": {
      "name": "python3",
      "display_name": "Python 3"
    }
  },
  "cells": [
    {
      "cell_type": "code",
      "metadata": {
        "id": "z44f15lu0jQF",
        "colab_type": "code",
        "colab": {}
      },
      "source": [
        "import numpy as np \n",
        "np.random.seed(42)"
      ],
      "execution_count": 25,
      "outputs": []
    },
    {
      "cell_type": "code",
      "metadata": {
        "id": "aDRhu_2gRt0s",
        "colab_type": "code",
        "colab": {}
      },
      "source": [
        "import numpy as np\n",
        "import matplotlib.pyplot as plt\n",
        "import math\n",
        "import sklearn\n",
        "import keras"
      ],
      "execution_count": 26,
      "outputs": []
    },
    {
      "cell_type": "code",
      "metadata": {
        "id": "Zxku64-4Rt4I",
        "colab_type": "code",
        "colab": {
          "base_uri": "https://localhost:8080/",
          "height": 268
        },
        "outputId": "ccd47ad3-1866-4652-b1e9-9d50f7164707"
      },
      "source": [
        "x_data = np.linspace(-1, 1, num=100000)\n",
        "y_data = - np.tanh(10*x_data-3) - np.tanh(10*x_data+3)+ np.tanh(10*x_data-4) + np.tanh(10*x_data+4) + 0.0001*np.random.normal(size=100000)\n",
        "\n",
        "plt.scatter(x_data[::1], y_data[::1], s=2)\n",
        "plt.grid()\n",
        "plt.show()"
      ],
      "execution_count": 27,
      "outputs": [
        {
          "output_type": "display_data",
          "data": {
            "image/png": "[encoded data removed]",
            "text/plain": [
              "<Figure size 432x288 with 1 Axes>"
            ]
          },
          "metadata": {
            "tags": [],
            "needs_background": "light"
          }
        }
      ]
    },
    {
      "cell_type": "code",
      "metadata": {
        "id": "QfrsjQwgRt7l",
        "colab_type": "code",
        "colab": {
          "base_uri": "https://localhost:8080/",
          "height": 90
        },
        "outputId": "feb811fc-7432-4c69-e754-3855c1c3ba0f"
      },
      "source": [
        "x_train1 = x_data[:len(x_data) - len(x_data)//10]\n",
        "x_test = x_data[len(x_data) - len(x_data)//10:]\n",
        "print(len(x_train),len(x_test))\n",
        "\n",
        "y_train1 = y_data[:len(y_data) - len(y_data)//10]\n",
        "y_test = y_data[len(y_data) - len(y_data)//10:]\n",
        "print(len(y_train),len(y_test))\n",
        "\n",
        "x_train = x_train1[:len(x_train1) - len(x_train1)//10]\n",
        "x_val = x_train1[:len(x_train1) - len(x_train1)//10]\n",
        "print(len(x_train),len(x_test))\n",
        "\n",
        "y_train = y_train1[:len(y_train1) - len(y_train1)//10]\n",
        "y_val = y_train1[:len(y_train1) - len(y_train1)//10]\n",
        "print(len(y_train),len(y_test))\n",
        "\n",
        "train_data = []\n",
        "for i in range(0,len(x_train)):\n",
        "  train_data.append([x_train[i], y_train[i]])\n",
        "\n",
        "test_data = []\n",
        "for i in range(0,len(x_test)):\n",
        "  test_data.append([x_test[i],y_test[i]])\n",
        "len(train_data)\n",
        "\n",
        "x_train = np.transpose(x_train)\n",
        "y_train = np.transpose(y_train)\n",
        "x_test = np.transpose(x_test)\n",
        "y_test = np.transpose(y_test)\n"
      ],
      "execution_count": 82,
      "outputs": [
        {
          "output_type": "stream",
          "text": [
            "90000 10000\n",
            "90000 10000\n",
            "81000 10000\n",
            "81000 10000\n"
          ],
          "name": "stdout"
        }
      ]
    },
    {
      "cell_type": "code",
      "metadata": {
        "id": "8BsUeFdZRu69",
        "colab_type": "code",
        "colab": {}
      },
      "source": [
        ""
      ],
      "execution_count": 28,
      "outputs": []
    },
    {
      "cell_type": "code",
      "metadata": {
        "id": "HzlL0qyx1zU9",
        "colab_type": "code",
        "colab": {}
      },
      "source": [
        "class Layer:\n",
        "    \n",
        "    def __init__(self):\n",
        "        pass\n",
        "    \n",
        "    def forward(self, input):\n",
        "        return input    \n",
        "    \n",
        "    def backward(self, input, grad_output):\n",
        "        num_units = input.shape[1]   \n",
        "        d_layer_d_input = np.eye(num_units)\n",
        "        return np.dot(grad_output, d_layer_d_input) # chain rule"
      ],
      "execution_count": 29,
      "outputs": []
    },
    {
      "cell_type": "code",
      "metadata": {
        "id": "_x4PtK1O2KIS",
        "colab_type": "code",
        "colab": {}
      },
      "source": [
        "class relu(Layer):\n",
        "    def __init__(self):\n",
        "        pass\n",
        "    \n",
        "    def forward(self, input):\n",
        "        relu_forward = np.maximum(0,input)\n",
        "        return relu_forward\n",
        "    \n",
        "    def backward(self, input, grad_output):\n",
        "        relu_grad = input > 0\n",
        "        return grad_output*relu_grad"
      ],
      "execution_count": 30,
      "outputs": []
    },
    {
      "cell_type": "code",
      "metadata": {
        "id": "Op4ZQrYH6uLF",
        "colab_type": "code",
        "colab": {}
      },
      "source": [
        "def sigmoid(x):\n",
        "    s=1/(1+np.exp(-x))\n",
        "    ds=s*(1-s)  \n",
        "    return s,ds\n",
        "\n",
        "class sigmoid(Layer):\n",
        "    def __init__(self):\n",
        "        pass\n",
        "    \n",
        "    def forward(self, input):\n",
        "        return sigmoid(input)[0]\n",
        "    \n",
        "    def backward(self, input, grad_output):\n",
        "        return sigmoid(input)[1]*grad_output\n"
      ],
      "execution_count": 31,
      "outputs": []
    },
    {
      "cell_type": "code",
      "metadata": {
        "id": "aapsgz2X71wZ",
        "colab_type": "code",
        "colab": {}
      },
      "source": [
        "\n",
        "def tanh1(x):\n",
        "    t=(np.exp(x)-np.exp(-x))/(np.exp(x)+np.exp(-x))\n",
        "    dt=1-t**2\n",
        "    return t,dt\n",
        "\n",
        "class tanh(Layer):\n",
        "    def __init__(self):\n",
        "        pass\n",
        "    \n",
        "    def forward(self, input):\n",
        "        return tanh1(input)[0]\n",
        "    \n",
        "    def backward(self, input, grad_output):\n",
        "        return tanh1(input)[1]*grad_output"
      ],
      "execution_count": 32,
      "outputs": []
    },
    {
      "cell_type": "code",
      "metadata": {
        "id": "abslCgr72N1L",
        "colab_type": "code",
        "colab": {}
      },
      "source": [
        "class Dense(Layer):\n",
        "    def __init__(self, input_units, output_units, learning_rate=0.1):\n",
        "        self.learning_rate = learning_rate\n",
        "        self.weights = np.random.normal(loc=0.0, \n",
        "                                        scale = np.sqrt(1/(input_units+output_units)), \n",
        "                                        size = (input_units,output_units))\n",
        "        self.biases = np.zeros(output_units)\n",
        "        \n",
        "    def forward(self,input):\n",
        "        return np.dot(input,self.weights) + self.biases\n",
        "    \n",
        "    def backward(self,input,grad_output):\n",
        "        grad_input = np.dot(grad_output, self.weights.T)\n",
        "        grad_weights = np.dot(input.T, grad_output)\n",
        "        grad_biases = grad_output.mean(axis=0)*input.shape[0]\n",
        "        \n",
        "        assert grad_weights.shape == self.weights.shape and grad_biases.shape == self.biases.shape\n",
        "        self.weights = self.weights - self.learning_rate * grad_weights\n",
        "        self.biases = self.biases - self.learning_rate * grad_biases\n",
        "        \n",
        "        return grad_input"
      ],
      "execution_count": 48,
      "outputs": []
    },
    {
      "cell_type": "code",
      "metadata": {
        "id": "8KguLAZ52dor",
        "colab_type": "code",
        "colab": {}
      },
      "source": [
        "def softmax_crossentropy_with_logits(logits,reference_answers):\n",
        "    logits_for_answers = logits - reference_answers\n",
        "    \n",
        "    xentropy = - logits_for_answers + np.log(np.sum(np.exp(logits),axis=-1))\n",
        "    \n",
        "    return xentropy\n",
        "\n",
        "def grad_softmax_crossentropy_with_logits(logits,reference_answers):\n",
        "\n",
        "    ones_for_answers = np.zeros_like(logits)\n",
        "    ones_for_answers = reference_answers\n",
        "    \n",
        "    softmax = np.exp(logits) / np.exp(logits).sum(axis=-1,keepdims=True)\n",
        "    \n",
        "    return (- ones_for_answers + softmax) / logits.shape[0]"
      ],
      "execution_count": 109,
      "outputs": []
    },
    {
      "cell_type": "code",
      "metadata": {
        "id": "Y5kbt7Jo22uj",
        "colab_type": "code",
        "colab": {}
      },
      "source": [
        "network = []\n",
        "network.append(Dense(1,64))\n",
        "network.append(relu())\n",
        "network.append(Dense(64,64))\n",
        "network.append(relu())\n",
        "network.append(Dense(64,1))\n",
        "\n",
        "def forward(network, X):\n",
        "    activations = []\n",
        "    input = X    \n",
        "    for l in network:\n",
        "        activations.append(l.forward(input))\n",
        "        input = activations[-1]\n",
        "    \n",
        "    assert len(activations) == len(network)\n",
        "    return activations\n",
        "def predict(network,X):  \n",
        "    logits = forward(network,X)[-1]\n",
        "    return logits.argmax(axis=-1)\n",
        "    \n",
        "def train(network,X,y):\n",
        "    layer_activations = forward(network,X)\n",
        "    layer_inputs = [X]+layer_activations  \n",
        "    logits = layer_activations[-1]\n",
        "    loss = softmax_crossentropy_with_logits(logits,y)\n",
        "    loss_grad = grad_softmax_crossentropy_with_logits(logits,y)\n",
        "    for layer_index in range(len(network))[::-1]:\n",
        "        layer = network[layer_index]\n",
        "        loss_grad = layer.backward(layer_inputs[layer_index],loss_grad) \n",
        "    return np.mean(loss)"
      ],
      "execution_count": 110,
      "outputs": []
    },
    {
      "cell_type": "code",
      "metadata": {
        "id": "Oir-uhwD27KW",
        "colab_type": "code",
        "colab": {
          "base_uri": "https://localhost:8080/",
          "height": 598
        },
        "outputId": "03051bb1-9b96-488f-fb46-fad67ccec047"
      },
      "source": [
        "from tqdm import trange\n",
        "def iterate_minibatches(inputs, targets, batchsize, shuffle=False):\n",
        "    assert len(inputs) == len(targets)\n",
        "    if shuffle:\n",
        "        indices = np.random.permutation(len(inputs))\n",
        "    for start_idx in trange(0, len(inputs) - batchsize + 1, batchsize):\n",
        "        if shuffle:\n",
        "            excerpt = indices[start_idx:start_idx + batchsize]\n",
        "        else:\n",
        "            excerpt = slice(start_idx, start_idx + batchsize)\n",
        "        yield inputs[excerpt], targets[excerpt]\n",
        "\n",
        "from IPython.display import clear_output\n",
        "train_log = []\n",
        "val_log = []\n",
        "X_train, y_train, X_val, y_val, X_test, y_test = x_train, y_train, x_val, y_val, x_test, y_test\n",
        "for epoch in range(25):    \n",
        "\n",
        "  for x_batch,y_batch in iterate_minibatches(x_train,y_train,batchsize=64,shuffle=True):\n",
        "        train(network,x_batch.reshape(64,1),y_batch.reshape(64,1))\n",
        "        \n",
        "\n",
        "\n",
        "print(\"Training Done\")"
      ],
      "execution_count": 113,
      "outputs": [
        {
          "output_type": "stream",
          "text": [
            "  0%|          | 0/1265 [00:00<?, ?it/s]/usr/local/lib/python3.6/dist-packages/ipykernel_launcher.py:4: RuntimeWarning: divide by zero encountered in log\n",
            "  after removing the cwd from sys.path.\n",
            "/usr/local/lib/python3.6/dist-packages/ipykernel_launcher.py:13: RuntimeWarning: invalid value encountered in true_divide\n",
            "  del sys.path[0]\n",
            "/usr/local/lib/python3.6/dist-packages/ipykernel_launcher.py:10: RuntimeWarning: invalid value encountered in greater\n",
            "  # Remove the CWD from sys.path while we load stuff.\n",
            "100%|██████████| 1265/1265 [00:00<00:00, 2671.14it/s]\n",
            "100%|██████████| 1265/1265 [00:00<00:00, 2687.52it/s]\n",
            "100%|██████████| 1265/1265 [00:00<00:00, 2761.34it/s]\n",
            "100%|██████████| 1265/1265 [00:00<00:00, 2784.82it/s]\n",
            "100%|██████████| 1265/1265 [00:00<00:00, 2668.64it/s]\n",
            "100%|██████████| 1265/1265 [00:00<00:00, 2630.19it/s]\n",
            "100%|██████████| 1265/1265 [00:00<00:00, 2677.83it/s]\n",
            "100%|██████████| 1265/1265 [00:00<00:00, 2625.04it/s]\n",
            "100%|██████████| 1265/1265 [00:00<00:00, 2723.21it/s]\n",
            "100%|██████████| 1265/1265 [00:00<00:00, 2678.54it/s]\n",
            "100%|██████████| 1265/1265 [00:00<00:00, 2750.05it/s]\n",
            "100%|██████████| 1265/1265 [00:00<00:00, 2709.01it/s]\n",
            "100%|██████████| 1265/1265 [00:00<00:00, 2791.11it/s]\n",
            "100%|██████████| 1265/1265 [00:00<00:00, 2678.07it/s]\n",
            "100%|██████████| 1265/1265 [00:00<00:00, 2712.47it/s]\n",
            "100%|██████████| 1265/1265 [00:00<00:00, 2633.99it/s]\n",
            "100%|██████████| 1265/1265 [00:00<00:00, 2783.36it/s]\n",
            "100%|██████████| 1265/1265 [00:00<00:00, 2791.48it/s]\n",
            "100%|██████████| 1265/1265 [00:00<00:00, 2632.62it/s]\n",
            "100%|██████████| 1265/1265 [00:00<00:00, 2720.12it/s]\n",
            "100%|██████████| 1265/1265 [00:00<00:00, 2637.90it/s]\n",
            "100%|██████████| 1265/1265 [00:00<00:00, 2747.15it/s]\n",
            "100%|██████████| 1265/1265 [00:00<00:00, 2762.43it/s]\n",
            "100%|██████████| 1265/1265 [00:00<00:00, 2657.23it/s]\n",
            "100%|██████████| 1265/1265 [00:00<00:00, 2553.17it/s]"
          ],
          "name": "stderr"
        },
        {
          "output_type": "stream",
          "text": [
            "Training Done\n"
          ],
          "name": "stdout"
        },
        {
          "output_type": "stream",
          "text": [
            "\n"
          ],
          "name": "stderr"
        }
      ]
    },
    {
      "cell_type": "code",
      "metadata": {
        "id": "a8r_sGYhaU1B",
        "colab_type": "code",
        "colab": {
          "base_uri": "https://localhost:8080/",
          "height": 35
        },
        "outputId": "efe29555-bd4d-49eb-9471-676f4dfdbec6"
      },
      "source": [
        "from sklearn.metrics import mean_squared_error \n",
        "\n",
        "mean_squared_error(predict(network,X_test[:64].reshape(64,1)),y_test[:64]) "
      ],
      "execution_count": 114,
      "outputs": [
        {
          "output_type": "execute_result",
          "data": {
            "text/plain": [
              "3.2029226719186666e-07"
            ]
          },
          "metadata": {
            "tags": []
          },
          "execution_count": 114
        }
      ]
    },
    {
      "cell_type": "code",
      "metadata": {
        "id": "U7CO8ST_cdLi",
        "colab_type": "code",
        "colab": {}
      },
      "source": [
        ""
      ],
      "execution_count": null,
      "outputs": []
    }
  ]
}