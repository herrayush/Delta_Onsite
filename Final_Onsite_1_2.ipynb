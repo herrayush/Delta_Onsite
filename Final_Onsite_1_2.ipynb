{
  "nbformat": 4,
  "nbformat_minor": 0,
  "metadata": {
    "colab": {
      "name": "Final_Onsite_1.2",
      "provenance": [],
      "collapsed_sections": [],
      "authorship_tag": "ABX9TyNeETjeI2gTJmxdrj7AC+wJ"
    },
    "kernelspec": {
      "name": "python3",
      "display_name": "Python 3"
    }
  },
  "cells": [
    {
      "cell_type": "code",
      "metadata": {
        "id": "OQck_7rc5tal",
        "colab_type": "code",
        "colab": {}
      },
      "source": [
        "import numpy as np\n",
        "import matplotlib.pyplot as plt\n",
        "import math\n",
        "import sklearn\n",
        "import keras\n",
        "\n",
        "x_data = np.linspace(-1, 1, num=100)\n",
        "y_data = - np.tanh(10*x_data-3) - np.tanh(x_data+3)+ np.tanh(10*x_data-4) + np.tanh(10*x_data+4) + 0.0001*np.random.normal(size=100)"
      ],
      "execution_count": 15,
      "outputs": []
    },
    {
      "cell_type": "code",
      "metadata": {
        "id": "pqkpR75e5vUy",
        "colab_type": "code",
        "colab": {
          "base_uri": "https://localhost:8080/",
          "height": 283
        },
        "outputId": "9b8c95b6-f390-4924-aa4d-b5479d712046"
      },
      "source": [
        "plt.scatter(x_data[::1], y_data[::1], s=2)\n",
        "plt.grid()\n",
        "plt.show()\n",
        "\n",
        "\n",
        "print(len(x_data))"
      ],
      "execution_count": 16,
      "outputs": [
        {
          "output_type": "display_data",
          "data": {
            "image/png": "[encoded data removed]",
            "text/plain": [
              "<Figure size 432x288 with 1 Axes>"
            ]
          },
          "metadata": {
            "tags": [],
            "needs_background": "light"
          }
        },
        {
          "output_type": "stream",
          "text": [
            "100\n"
          ],
          "name": "stdout"
        }
      ]
    },
    {
      "cell_type": "code",
      "metadata": {
        "id": "Y3sEs_Z_5xUr",
        "colab_type": "code",
        "colab": {
          "base_uri": "https://localhost:8080/",
          "height": 53
        },
        "outputId": "c723e65b-93cf-4622-f5ae-03261fda71c4"
      },
      "source": [
        "x_train = x_data[:len(x_data) - len(x_data)//2]\n",
        "x_test = x_data[len(x_data) - len(x_data)//2:]\n",
        "print(len(x_train),len(x_test))\n",
        "\n",
        "y_train = y_data[:len(y_data) - len(y_data)//2]\n",
        "y_test = y_data[len(y_data) - len(y_data)//2:]\n",
        "print(len(x_train),len(x_test))"
      ],
      "execution_count": 17,
      "outputs": [
        {
          "output_type": "stream",
          "text": [
            "50 50\n",
            "50 50\n"
          ],
          "name": "stdout"
        }
      ]
    },
    {
      "cell_type": "code",
      "metadata": {
        "id": "x4_YyrwiahLk",
        "colab_type": "code",
        "colab": {
          "base_uri": "https://localhost:8080/",
          "height": 305
        },
        "outputId": "72b2afee-439f-4e9e-da90-864b47308e8a"
      },
      "source": [
        "import warnings\n",
        "\n",
        "z = np.polyfit(x_train, y_train, 100)\n",
        "\n",
        "x = x_train\n",
        "y = y_train\n",
        "p = np.poly1d(z)\n",
        "import matplotlib.pyplot as plt\n",
        "with warnings.catch_warnings():\n",
        "    warnings.simplefilter('ignore', np.RankWarning)\n",
        "    p30 = np.poly1d(np.polyfit(x, y, 30))\n",
        "xp = x_train\n",
        "_ = plt.plot(x, y, '.', xp, p(xp), 'o', xp, p30(xp), '--')\n",
        "plt.ylim(-2,2)\n",
        "\n",
        "plt.show()"
      ],
      "execution_count": 18,
      "outputs": [
        {
          "output_type": "stream",
          "text": [
            "/usr/local/lib/python3.6/dist-packages/IPython/core/interactiveshell.py:2882: RankWarning: Polyfit may be poorly conditioned\n",
            "  exec(code_obj, self.user_global_ns, self.user_ns)\n"
          ],
          "name": "stderr"
        },
        {
          "output_type": "display_data",
          "data": {
            "image/png": "[encoded data removed]",
            "text/plain": [
              "<Figure size 432x288 with 1 Axes>"
            ]
          },
          "metadata": {
            "tags": [],
            "needs_background": "light"
          }
        }
      ]
    },
    {
      "cell_type": "code",
      "metadata": {
        "id": "ACjUIATKpkmF",
        "colab_type": "code",
        "colab": {
          "base_uri": "https://localhost:8080/",
          "height": 35
        },
        "outputId": "d4f11091-7fb3-471b-e200-49c9d55c91e2"
      },
      "source": [
        "from sklearn.metrics import mean_squared_error \n",
        "\n",
        "mean_squared_error(y_test,xp) \n"
      ],
      "execution_count": 19,
      "outputs": [
        {
          "output_type": "execute_result",
          "data": {
            "text/plain": [
              "0.2048328435242247"
            ]
          },
          "metadata": {
            "tags": []
          },
          "execution_count": 19
        }
      ]
    }
  ]
}